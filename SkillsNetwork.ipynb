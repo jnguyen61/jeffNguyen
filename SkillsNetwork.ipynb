{
  "metadata": {
    "language_info": {
      "codemirror_mode": {
        "name": "python",
        "version": 3
      },
      "file_extension": ".py",
      "mimetype": "text/x-python",
      "name": "python",
      "nbconvert_exporter": "python",
      "pygments_lexer": "ipython3",
      "version": "3.8"
    },
    "kernelspec": {
      "name": "python",
      "display_name": "Python (Pyodide)",
      "language": "python"
    }
  },
  "nbformat_minor": 4,
  "nbformat": 4,
  "cells": [
    {
      "cell_type": "markdown",
      "source": "# Data Science Tools and Ecosystem\n\n",
      "metadata": {}
    },
    {
      "cell_type": "code",
      "source": "## Author\n\nMy name is Jeffrey Nguyen.\n",
      "metadata": {},
      "execution_count": null,
      "outputs": []
    },
    {
      "cell_type": "markdown",
      "source": "Introductory \nWelcome to this notebook where we will be exploring the vast world of Data Science Tools and Ecosystem. \n\n",
      "metadata": {}
    },
    {
      "cell_type": "markdown",
      "source": "# This is a markdown cell that lists the objectives covered in this notebook\n\n## Objectives:\n\n- List popular languages for Data Science.\n- List commonly used libraries for Data Science.\n- Provide examples of arithmetic expressions in Python.\n- Demonstrate how to convert minutes to hours using Python.\n- Introduce popular development environment tools for Data Science.\n\nThis notebook provides an overview of various topics related to Data Science, including programming languages, libraries, arithmetic expressions, and more. By covering these topics, this notebook aims to provide a solid foundation for anyone looking to get started with Data Science.\n",
      "metadata": {}
    },
    {
      "cell_type": "markdown",
      "source": "Some of the popular languages that Data Scientists use are:\n\n1.Python: Python is a high-level, interpreted language that is widely used in Data Science due to its simplicity, readability, and vast collection of libraries for data analysis, machine learning, and visualization.\n\n2.R: R is a programming language that is designed for statistical computing and graphics. \n\n3.SQL: Structured Query Language (SQL) is a domain-specific language used to manage and manipulate relational databases.",
      "metadata": {}
    },
    {
      "cell_type": "markdown",
      "source": "Some of the commonly used libraries used by Data Scientists include:\n\n1.NumPy: NumPy is a library for Python that provides support for large, multi-dimensional arrays and matrices, along with a collection of high-level mathematical functions to operate on these arrays. \n\n2.Pandas: Pandas is a powerful library for data manipulation and analysis, providing easy-to-use data structures and data analysis tools for handling structured data, such as tabular data, time-series data, and relational databases.\n\n3.Matplotlib: Matplotlib is a plotting library for Python that provides a wide range of 2D and 3D visualizations, including line plots, scatter plots, bar plots, histograms, and more. ",
      "metadata": {}
    },
    {
      "cell_type": "markdown",
      "source": "| Data Science Tools |\n| ------------------ |\n| Jupyter Notebook   |\n| Spyder             |\n| RStudio            |\n",
      "metadata": {}
    },
    {
      "cell_type": "markdown",
      "source": "###Below are a few examples of evaluating arithmetic expressions in Python. \nArithmetic expressions are an essential part of data science and are used to perform mathematical operations on numerical data. Python offers a wide range of arithmetic operators and functions that allow users to perform calculations on numeric data with ease. ",
      "metadata": {}
    },
    {
      "cell_type": "code",
      "source": "# This is a simple arithmetic expression to multiply then add integers\nresult = (3*4) + 5\nprint(result)\n\n\n",
      "metadata": {
        "trusted": true
      },
      "execution_count": 1,
      "outputs": [
        {
          "name": "stdout",
          "text": "17\n",
          "output_type": "stream"
        }
      ]
    },
    {
      "cell_type": "code",
      "source": "# This will convert 200 minutes to hours by dividing by 60\nminutes = 200\nhours = minutes / 60\nprint(hours)\n",
      "metadata": {
        "trusted": true
      },
      "execution_count": 2,
      "outputs": [
        {
          "name": "stdout",
          "text": "3.3333333333333335\n",
          "output_type": "stream"
        }
      ]
    }
  ]
}